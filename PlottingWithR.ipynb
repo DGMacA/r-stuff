{
 "cells": [
  {
   "cell_type": "markdown",
   "id": "6ebeae6f",
   "metadata": {},
   "source": [
    "### Various plots with `ggplot2`\n",
    "\n",
    "__A statistics and R learning exercise - do not rely on this notebook__.\n",
    "\n",
    "Methods and examples shamelessly plundered.\n",
    "\n",
    "There has been little 'generalised' testing, i.e. there may be many cases that break down.\n",
    "\n",
    "DGMacA - current version 03 February 2023."
   ]
  },
  {
   "cell_type": "code",
   "execution_count": 1,
   "id": "f555ded1",
   "metadata": {},
   "outputs": [],
   "source": [
    "setwd(getwd()) # get and stay in current directory"
   ]
  },
  {
   "cell_type": "raw",
   "id": "84195345",
   "metadata": {},
   "source": [
    "<div style=\"page-break-after: always;\"></div>"
   ]
  },
  {
   "cell_type": "markdown",
   "id": "dddc3fe5",
   "metadata": {},
   "source": [
    "#### Set up some random data"
   ]
  },
  {
   "cell_type": "code",
   "execution_count": 10,
   "id": "ea87a6ae",
   "metadata": {},
   "outputs": [
    {
     "data": {
      "text/html": [
       "<table>\n",
       "<thead><tr><th scope=col>cond</th><th scope=col>rating</th></tr></thead>\n",
       "<tbody>\n",
       "\t<tr><td>A         </td><td>-1.2070657</td></tr>\n",
       "\t<tr><td>A         </td><td> 0.2774292</td></tr>\n",
       "\t<tr><td>A         </td><td> 1.0844412</td></tr>\n",
       "\t<tr><td>A         </td><td>-2.3456977</td></tr>\n",
       "\t<tr><td>A         </td><td> 0.4291247</td></tr>\n",
       "\t<tr><td>A         </td><td> 0.5060559</td></tr>\n",
       "</tbody>\n",
       "</table>\n"
      ],
      "text/latex": [
       "\\begin{tabular}{r|ll}\n",
       " cond & rating\\\\\n",
       "\\hline\n",
       "\t A          & -1.2070657\\\\\n",
       "\t A          &  0.2774292\\\\\n",
       "\t A          &  1.0844412\\\\\n",
       "\t A          & -2.3456977\\\\\n",
       "\t A          &  0.4291247\\\\\n",
       "\t A          &  0.5060559\\\\\n",
       "\\end{tabular}\n"
      ],
      "text/markdown": [
       "\n",
       "| cond | rating |\n",
       "|---|---|\n",
       "| A          | -1.2070657 |\n",
       "| A          |  0.2774292 |\n",
       "| A          |  1.0844412 |\n",
       "| A          | -2.3456977 |\n",
       "| A          |  0.4291247 |\n",
       "| A          |  0.5060559 |\n",
       "\n"
      ],
      "text/plain": [
       "  cond rating    \n",
       "1 A    -1.2070657\n",
       "2 A     0.2774292\n",
       "3 A     1.0844412\n",
       "4 A    -2.3456977\n",
       "5 A     0.4291247\n",
       "6 A     0.5060559"
      ]
     },
     "metadata": {},
     "output_type": "display_data"
    },
    {
     "name": "stdout",
     "output_type": "stream",
     "text": [
      "Mean, median, standard deviation:  0.408    0.392    1.1147"
     ]
    }
   ],
   "source": [
    "library(ggplot2, quietly = FALSE)\n",
    "# This sample data will be used for the examples below:\n",
    "\n",
    "set.seed(1234)\n",
    "dat <- data.frame(cond = factor(rep(c(\"A\",\"B\"), each=200)), \n",
    "                rating = c(rnorm(200),rnorm(200, mean=.8)))\n",
    "# View first few rows\n",
    "head(dat)\n",
    "\n",
    "# get statistics (mean, median, standard deviation)\n",
    "xbar = mean(dat$rating, na.rm=TRUE) # discount any missing values\n",
    "mn   = median(dat$rating, na.rm=TRUE)\n",
    "stdv = sd(dat$rating, na.rm=TRUE)\n",
    "cat('Mean, median, standard deviation: ', round(xbar,3), '  ', \n",
    "    round(mn,3), '  ', round(stdv,4))"
   ]
  },
  {
   "cell_type": "raw",
   "id": "e6beb91d",
   "metadata": {},
   "source": [
    "<div style=\"page-break-after: always;\"></div>"
   ]
  },
  {
   "cell_type": "markdown",
   "id": "456a8276",
   "metadata": {},
   "source": [
    "#### Draw simple histogram\n",
    "\n",
    "Add vertical lines at mean and median"
   ]
  },
  {
   "cell_type": "code",
   "execution_count": 3,
   "id": "63f3b7d0",
   "metadata": {},
   "outputs": [
    {
     "data": {
      "image/png": "[encoded data removed]",
      "text/plain": [
       "plot without title"
      ]
     },
     "metadata": {},
     "output_type": "display_data"
    }
   ],
   "source": [
    "options(repr.plot.width=5, repr.plot.height=3) # set plot size (in inches)\n",
    "# Draw with black outline, lightgrey fill\n",
    "ggplot(dat, aes(x=rating)) +\n",
    "    geom_histogram(binwidth=.5, colour=\"black\", fill=\"lightgrey\") +\n",
    "    geom_vline(aes(xintercept=xbar),     \n",
    "               color=\"red\", linetype=\"dashed\", size=1) +\n",
    "    geom_vline(aes(xintercept=mn),   \n",
    "               color=\"blue\", linetype=\"dashed\", size=1)"
   ]
  },
  {
   "cell_type": "raw",
   "id": "a0335e91",
   "metadata": {},
   "source": [
    "<div style=\"page-break-after: always;\"></div>"
   ]
  },
  {
   "cell_type": "markdown",
   "id": "6d1800fe",
   "metadata": {},
   "source": [
    "##### Draw density (equal-area) histogram and overlay with density plot"
   ]
  },
  {
   "cell_type": "code",
   "execution_count": 4,
   "id": "fbda1166",
   "metadata": {},
   "outputs": [
    {
     "data": {
      "image/png": "[encoded data removed]",
      "text/plain": [
       "plot without title"
      ]
     },
     "metadata": {},
     "output_type": "display_data"
    }
   ],
   "source": [
    "options(repr.plot.width=5, repr.plot.height=3) # set plot size (in)\n",
    "# Histogram overlaid with kernel density curve\n",
    "ggplot(dat, aes(x=rating)) + \n",
    "    geom_histogram(aes(y=..density..),      # Histogram with density instead of count on y-axis\n",
    "                   binwidth=.5,\n",
    "                   colour=\"black\", fill=\"white\") +\n",
    "    geom_density(alpha=.2, fill=\"#FF6666\")  # Overlay with transparent density plot"
   ]
  },
  {
   "cell_type": "raw",
   "id": "3465a938",
   "metadata": {},
   "source": [
    "<div style=\"page-break-after: always;\"></div>"
   ]
  },
  {
   "cell_type": "markdown",
   "id": "b7e683bd",
   "metadata": {},
   "source": [
    "##### Draw density (equal-area) histogram and overlay with normal distribution"
   ]
  },
  {
   "cell_type": "code",
   "execution_count": 5,
   "id": "174ee28a",
   "metadata": {},
   "outputs": [
    {
     "data": {
      "image/png": "[encoded data removed]",
      "text/plain": [
       "plot without title"
      ]
     },
     "metadata": {},
     "output_type": "display_data"
    }
   ],
   "source": [
    "options(repr.plot.width=5, repr.plot.height=3) # set plot size (in)\n",
    "# Histogram overlaid with normal distribution plot\n",
    "ggplot(dat, aes(x=rating)) + \n",
    "    geom_histogram(aes(y=..density..),      # Histogram with density instead of count on y-axis\n",
    "                   binwidth=.5,\n",
    "                   colour=\"black\", fill=\"lightblue\") +\n",
    "# Overlay with normal distribution plot\n",
    "  stat_function(fun = dnorm, args = list(mean = xbar, sd = stdv), col=\"red\", lwd=0.75) "
   ]
  },
  {
   "cell_type": "raw",
   "id": "25aceb7e",
   "metadata": {},
   "source": [
    "<div style=\"page-break-after: always;\"></div>"
   ]
  },
  {
   "cell_type": "markdown",
   "id": "3ae499e7",
   "metadata": {},
   "source": [
    "#### Draw side-by-side boxplots"
   ]
  },
  {
   "cell_type": "code",
   "execution_count": 6,
   "id": "aa24cd5e",
   "metadata": {},
   "outputs": [
    {
     "data": {
      "image/png": "[encoded data removed]",
      "text/plain": [
       "plot without title"
      ]
     },
     "metadata": {},
     "output_type": "display_data"
    }
   ],
   "source": [
    "ggplot(dat, aes(x=cond, y=rating, fill=cond)) + geom_boxplot() +\n",
    "    guides(fill=\"none\")"
   ]
  },
  {
   "cell_type": "markdown",
   "id": "0d7a8569",
   "metadata": {},
   "source": [
    "##### Flip the axes"
   ]
  },
  {
   "cell_type": "code",
   "execution_count": 7,
   "id": "c92775a3",
   "metadata": {},
   "outputs": [
    {
     "data": {
      "image/png": "[encoded data removed]",
      "text/plain": [
       "plot without title"
      ]
     },
     "metadata": {},
     "output_type": "display_data"
    }
   ],
   "source": [
    "ggplot(dat, aes(x=cond, y=rating, fill=cond)) + geom_boxplot() + \n",
    "    guides(fill=\"none\") + coord_flip()"
   ]
  },
  {
   "cell_type": "raw",
   "id": "2f84e131",
   "metadata": {},
   "source": [
    "<div style=\"page-break-after: always;\"></div>"
   ]
  },
  {
   "cell_type": "markdown",
   "id": "a4d55113",
   "metadata": {},
   "source": [
    "#### Make a new box-plot and calculate values to compare"
   ]
  },
  {
   "cell_type": "code",
   "execution_count": 8,
   "id": "d8d8daea",
   "metadata": {},
   "outputs": [
    {
     "name": "stdout",
     "output_type": "stream",
     "text": [
      "Median, IQR, min, max         =  40.69325    19.26811    -1.674883    89.961\n",
      "Lower and upper quantiles     =  31.0604 50.32851\n",
      "Mean, Variance, Std Deviation =  40.69297    224.4368    14.98121\n",
      "Ends of whiskers              =  2.158231    79.23068"
     ]
    },
    {
     "data": {
      "image/png": "[encoded data removed]",
      "text/plain": [
       "plot without title"
      ]
     },
     "metadata": {},
     "output_type": "display_data"
    }
   ],
   "source": [
    "set.seed(12345)                # for reproducibility\n",
    "g = rnorm(1000, 10, 15) + 30   # random normal data\n",
    "#g = rpois(10000, 10)           # random Poisson data\n",
    "mydat = data.frame(g)\n",
    "\n",
    "cat('Median, IQR, min, max         = ', median(g),'  ', \n",
    "    IQR(g),'  ', min(g),'  ', max(g))\n",
    "q = quantile(g, probs = c(1/4, 3/4))\n",
    "cat('\\nLower and upper quantiles     = ', q)\n",
    "cat('\\nMean, Variance, Std Deviation = ', mean(g),'  ',\n",
    "    var(g),'  ', sd(g))\n",
    "cat('\\nEnds of whiskers              = ', quantile(g, 1/4)-1.5*IQR(g),\n",
    "    '  ',quantile(g, 3/4)+1.5*IQR(g))\n",
    "\n",
    "# Make the plot\n",
    "options(repr.plot.width=5, repr.plot.height=1.6) # set plot size (inches)\n",
    "ggplot(mydat, aes(y=g)) + \n",
    "geom_boxplot(color=\"blue\", fill=\"cyan\", lwd=0.5) +\n",
    "guides(fill=\"none\") + ylim(min(0, min(g)), max(g)) +\n",
    "ylab(\"Data values\") + coord_flip() +\n",
    "theme(axis.title.y=element_blank(),\n",
    "      axis.text.y=element_blank(),axis.ticks.y=element_blank())"
   ]
  },
  {
   "cell_type": "raw",
   "id": "ffe8b977",
   "metadata": {},
   "source": [
    "<div style=\"page-break-after: always;\"></div>"
   ]
  },
  {
   "cell_type": "markdown",
   "id": "767d8bdf",
   "metadata": {},
   "source": [
    "#### Make a scatter-plot, highlighting minima and maxima on each axis"
   ]
  },
  {
   "cell_type": "code",
   "execution_count": 9,
   "id": "b3bcd03e",
   "metadata": {},
   "outputs": [
    {
     "data": {
      "image/png": "[encoded data removed]",
      "text/plain": [
       "plot without title"
      ]
     },
     "metadata": {},
     "output_type": "display_data"
    }
   ],
   "source": [
    "library(ggplot2)\n",
    "options(repr.plot.width=5, repr.plot.height=4) # set plot size (in)\n",
    "\n",
    "# create 2 sets of normal random data\n",
    "ns = 100                 # sample size\n",
    "xx = rnorm(ns, 50, 20)   # normal with mean=50, sd=20\n",
    "yy = rnorm(ns, 175, 75)  # normal with mean=175, sd=750\n",
    "df = data.frame(xx, yy)\n",
    "\n",
    "ggplot(data = df, aes(x = xx, y = yy)) + \n",
    "   geom_point() +\n",
    "   geom_point(data = df[which.max(df$xx), ], color=\"red\", \n",
    "              size=3) +\n",
    "   geom_point(data = df[which.min(df$xx), ], color=\"blue\", \n",
    "              size=3) +\n",
    "   geom_point(data = df[which.max(df$yy), ], color=\"orange\", \n",
    "              size=3) +\n",
    "   geom_point(data = df[which.min(df$yy), ], color=\"green\", \n",
    "              size=3) +\n",
    "# set up background grid for plot\n",
    "   theme_linedraw() +\n",
    "   theme(panel.grid.major=element_line(colour=\"gray\", size=0.55),\n",
    "       panel.grid.minor=element_line(colour=\"lightgray\", size=0.001)) + \n",
    "   labs(x=\"x\", y=\"y\")"
   ]
  }
 ],
 "metadata": {
  "kernelspec": {
   "display_name": "R",
   "language": "R",
   "name": "ir"
  },
  "language_info": {
   "codemirror_mode": "r",
   "file_extension": ".r",
   "mimetype": "text/x-r-source",
   "name": "R",
   "pygments_lexer": "r",
   "version": "3.6.1"
  }
 },
 "nbformat": 4,
 "nbformat_minor": 5
}
